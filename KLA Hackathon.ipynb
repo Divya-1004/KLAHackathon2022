{
 "cells": [
  {
   "cell_type": "code",
   "execution_count": 3,
   "id": "53a88a5a",
   "metadata": {},
   "outputs": [
    {
     "name": "stdout",
     "output_type": "stream",
     "text": [
      "Note: you may need to restart the kernel to use updated packages.\n"
     ]
    },
    {
     "name": "stderr",
     "output_type": "stream",
     "text": [
      "'C:\\Users\\Divya' is not recognized as an internal or external command,\n",
      "operable program or batch file.\n"
     ]
    }
   ],
   "source": [
    "pip install pyyaml"
   ]
  },
  {
   "cell_type": "code",
   "execution_count": 4,
   "id": "a6bb6b69",
   "metadata": {},
   "outputs": [],
   "source": [
    "import yaml\n",
    "with open('Milestone1A.yaml', 'r') as file:\n",
    "    milestone_1 = yaml.safe_load(file)"
   ]
  },
  {
   "cell_type": "code",
   "execution_count": 21,
   "id": "6352d65f",
   "metadata": {},
   "outputs": [],
   "source": [
    "import time\n",
    "import datetime"
   ]
  },
  {
   "cell_type": "code",
   "execution_count": 5,
   "id": "efd7ca9c",
   "metadata": {},
   "outputs": [
    {
     "data": {
      "text/plain": [
       "{'M1A_Workflow': {'Type': 'Flow',\n",
       "  'Execution': 'Sequential',\n",
       "  'Activities': {'TaskA': {'Type': 'Task',\n",
       "    'Function': 'TimeFunction',\n",
       "    'Inputs': {'FunctionInput': 'TaskA_Input', 'ExecutionTime': '1'}},\n",
       "   'TaskB': {'Type': 'Task',\n",
       "    'Function': 'TimeFunction',\n",
       "    'Inputs': {'FunctionInput': 'TaskB_Input', 'ExecutionTime': '2'}},\n",
       "   'FlowA': {'Type': 'Flow',\n",
       "    'Execution': 'Sequential',\n",
       "    'Activities': {'TaskC': {'Type': 'Task',\n",
       "      'Function': 'TimeFunction',\n",
       "      'Inputs': {'FunctionInput': 'TaskC_Input', 'ExecutionTime': '3'}},\n",
       "     'TaskD': {'Type': 'Task',\n",
       "      'Function': 'TimeFunction',\n",
       "      'Inputs': {'FunctionInput': 'TaskD_Input', 'ExecutionTime': '4'}}}}}}}"
      ]
     },
     "execution_count": 5,
     "metadata": {},
     "output_type": "execute_result"
    }
   ],
   "source": [
    "milestone_1"
   ]
  },
  {
   "cell_type": "code",
   "execution_count": 12,
   "id": "82ac81ba",
   "metadata": {},
   "outputs": [
    {
     "name": "stdout",
     "output_type": "stream",
     "text": [
      "('M1A_Workflow', 'Type', 'Flow')\n",
      "('M1A_Workflow', 'Execution', 'Sequential')\n",
      "('M1A_Workflow', 'Activities', 'TaskA', 'Type', 'Task')\n",
      "('M1A_Workflow', 'Activities', 'TaskA', 'Function', 'TimeFunction')\n",
      "('M1A_Workflow', 'Activities', 'TaskA', 'Inputs', 'FunctionInput', 'TaskA_Input')\n",
      "('M1A_Workflow', 'Activities', 'TaskA', 'Inputs', 'ExecutionTime', '1')\n",
      "('M1A_Workflow', 'Activities', 'TaskB', 'Type', 'Task')\n",
      "('M1A_Workflow', 'Activities', 'TaskB', 'Function', 'TimeFunction')\n",
      "('M1A_Workflow', 'Activities', 'TaskB', 'Inputs', 'FunctionInput', 'TaskB_Input')\n",
      "('M1A_Workflow', 'Activities', 'TaskB', 'Inputs', 'ExecutionTime', '2')\n",
      "('M1A_Workflow', 'Activities', 'FlowA', 'Type', 'Flow')\n",
      "('M1A_Workflow', 'Activities', 'FlowA', 'Execution', 'Sequential')\n",
      "('M1A_Workflow', 'Activities', 'FlowA', 'Activities', 'TaskC', 'Type', 'Task')\n",
      "('M1A_Workflow', 'Activities', 'FlowA', 'Activities', 'TaskC', 'Function', 'TimeFunction')\n",
      "('M1A_Workflow', 'Activities', 'FlowA', 'Activities', 'TaskC', 'Inputs', 'FunctionInput', 'TaskC_Input')\n",
      "('M1A_Workflow', 'Activities', 'FlowA', 'Activities', 'TaskC', 'Inputs', 'ExecutionTime', '3')\n",
      "('M1A_Workflow', 'Activities', 'FlowA', 'Activities', 'TaskD', 'Type', 'Task')\n",
      "('M1A_Workflow', 'Activities', 'FlowA', 'Activities', 'TaskD', 'Function', 'TimeFunction')\n",
      "('M1A_Workflow', 'Activities', 'FlowA', 'Activities', 'TaskD', 'Inputs', 'FunctionInput', 'TaskD_Input')\n",
      "('M1A_Workflow', 'Activities', 'FlowA', 'Activities', 'TaskD', 'Inputs', 'ExecutionTime', '4')\n"
     ]
    }
   ],
   "source": [
    "def nested_dict_pairs_iterator(dict_obj):\n",
    "    for k, val in dict_obj.items():\n",
    "        if isinstance(val, dict):\n",
    "            for pair in  nested_dict_pairs_iterator(val):\n",
    "                yield (k, *pair)\n",
    "        else:\n",
    "             yield (k, val)\n",
    "FinalList=[]\n",
    "for pair in nested_dict_pairs_iterator(milestone_1):\n",
    "    print(pair)\n",
    "    #list=[]\n",
    "    FinalList.append(pair)\n",
    "    #print(list)"
   ]
  },
  {
   "cell_type": "code",
   "execution_count": 25,
   "id": "3d354c81",
   "metadata": {},
   "outputs": [
    {
     "ename": "TypeError",
     "evalue": "TimeFunction() takes 0 positional arguments but 1 was given",
     "output_type": "error",
     "traceback": [
      "\u001b[1;31m---------------------------------------------------------------------------\u001b[0m",
      "\u001b[1;31mTypeError\u001b[0m                                 Traceback (most recent call last)",
      "\u001b[1;32m<ipython-input-25-43e2010126d0>\u001b[0m in \u001b[0;36m<module>\u001b[1;34m\u001b[0m\n\u001b[0;32m     12\u001b[0m         \u001b[0mttime\u001b[0m\u001b[1;33m=\u001b[0m\u001b[0mint\u001b[0m\u001b[1;33m(\u001b[0m\u001b[0mt\u001b[0m\u001b[1;33m[\u001b[0m\u001b[1;33m-\u001b[0m\u001b[1;36m1\u001b[0m\u001b[1;33m]\u001b[0m\u001b[1;33m)\u001b[0m\u001b[1;33m\u001b[0m\u001b[1;33m\u001b[0m\u001b[0m\n\u001b[0;32m     13\u001b[0m     \u001b[0ms1\u001b[0m\u001b[1;33m+=\u001b[0m\u001b[1;34m\".\"\u001b[0m\u001b[1;33m.\u001b[0m\u001b[0mjoin\u001b[0m\u001b[1;33m(\u001b[0m\u001b[0mmyTuple\u001b[0m\u001b[1;33m)\u001b[0m\u001b[1;33m\u001b[0m\u001b[1;33m\u001b[0m\u001b[0m\n\u001b[1;32m---> 14\u001b[1;33m     \u001b[0mTimeFunction\u001b[0m\u001b[1;33m(\u001b[0m\u001b[0mttime\u001b[0m\u001b[1;33m)\u001b[0m\u001b[1;33m\u001b[0m\u001b[1;33m\u001b[0m\u001b[0m\n\u001b[0m\u001b[0;32m     15\u001b[0m     \u001b[0mLogFile\u001b[0m\u001b[1;33m.\u001b[0m\u001b[0mappend\u001b[0m\u001b[1;33m(\u001b[0m\u001b[0ms1\u001b[0m\u001b[1;33m)\u001b[0m\u001b[1;33m\u001b[0m\u001b[1;33m\u001b[0m\u001b[0m\n\u001b[0;32m     16\u001b[0m \u001b[1;33m\u001b[0m\u001b[0m\n",
      "\u001b[1;31mTypeError\u001b[0m: TimeFunction() takes 0 positional arguments but 1 was given"
     ]
    }
   ],
   "source": [
    "LogFile=[]\n",
    "ttime=0\n",
    "for i in range(len(FinalList)):\n",
    "    \n",
    "    s1=\" \"\n",
    "    myTuple=FinalList[i]\n",
    "    #myTuple=FinalList[i]\n",
    "    myTuple=myTuple[0:1]\n",
    "    last=myTuple[-1]\n",
    "    s1=s1+str(datetime.datetime.now()) + ';'\n",
    "    if len(last)==1:\n",
    "        ttime=int(t[-1])\n",
    "    s1+=\".\".join(myTuple)\n",
    "    TimeFunction(ttime)\n",
    "    LogFile.append(s1)\n",
    "     "
   ]
  },
  {
   "cell_type": "code",
   "execution_count": null,
   "id": "c06a2433",
   "metadata": {},
   "outputs": [],
   "source": [
    "'.'.join(FinalList[0])"
   ]
  },
  {
   "cell_type": "code",
   "execution_count": 28,
   "id": "aded0d24",
   "metadata": {},
   "outputs": [],
   "source": [
    "def TimeFunction():\n",
    "    for pair_list in FinalList:\n",
    "        for ele in pair_list:\n",
    "            if ele.isdigit():\n",
    "                time.sleep(int(ele))\n",
    "                print(datetime.datetime.now)\n",
    "                print(\"done!\")"
   ]
  },
  {
   "cell_type": "code",
   "execution_count": 29,
   "id": "68cdd258",
   "metadata": {},
   "outputs": [
    {
     "name": "stdout",
     "output_type": "stream",
     "text": [
      "<built-in method now of type object at 0x00007FF97765B530>\n",
      "done!\n",
      "<built-in method now of type object at 0x00007FF97765B530>\n",
      "done!\n",
      "<built-in method now of type object at 0x00007FF97765B530>\n",
      "done!\n",
      "<built-in method now of type object at 0x00007FF97765B530>\n",
      "done!\n"
     ]
    }
   ],
   "source": [
    "TimeFunction()"
   ]
  },
  {
   "cell_type": "code",
   "execution_count": null,
   "id": "b721400d",
   "metadata": {},
   "outputs": [],
   "source": []
  }
 ],
 "metadata": {
  "kernelspec": {
   "display_name": "Python 3",
   "language": "python",
   "name": "python3"
  },
  "language_info": {
   "codemirror_mode": {
    "name": "ipython",
    "version": 3
   },
   "file_extension": ".py",
   "mimetype": "text/x-python",
   "name": "python",
   "nbconvert_exporter": "python",
   "pygments_lexer": "ipython3",
   "version": "3.8.8"
  }
 },
 "nbformat": 4,
 "nbformat_minor": 5
}
